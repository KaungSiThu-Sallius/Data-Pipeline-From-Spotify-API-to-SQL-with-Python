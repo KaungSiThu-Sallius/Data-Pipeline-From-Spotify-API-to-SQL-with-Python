{
 "cells": [
  {
   "cell_type": "markdown",
   "id": "36bab996",
   "metadata": {},
   "source": [
    "## Analyzing the extracted Spotify Tracks (best songs 2023 playlist)"
   ]
  },
  {
   "cell_type": "markdown",
   "id": "16278fb5",
   "metadata": {},
   "source": [
    "### 1) Importing necessary libraries"
   ]
  },
  {
   "cell_type": "code",
   "execution_count": 24,
   "id": "d813fe8a",
   "metadata": {},
   "outputs": [],
   "source": [
    "import pandas as pd\n",
    "import matplotlib.pyplot as plt\n",
    "import sqlite3"
   ]
  },
  {
   "cell_type": "markdown",
   "id": "0afdfd76",
   "metadata": {},
   "source": [
    "### 2) Read Extracted CSV file"
   ]
  },
  {
   "cell_type": "code",
   "execution_count": null,
   "id": "efa7df2b",
   "metadata": {},
   "outputs": [
    {
     "data": {
      "text/html": [
       "<div>\n",
       "<style scoped>\n",
       "    .dataframe tbody tr th:only-of-type {\n",
       "        vertical-align: middle;\n",
       "    }\n",
       "\n",
       "    .dataframe tbody tr th {\n",
       "        vertical-align: top;\n",
       "    }\n",
       "\n",
       "    .dataframe thead th {\n",
       "        text-align: right;\n",
       "    }\n",
       "</style>\n",
       "<table border=\"1\" class=\"dataframe\">\n",
       "  <thead>\n",
       "    <tr style=\"text-align: right;\">\n",
       "      <th></th>\n",
       "      <th>track_name</th>\n",
       "      <th>artist_name</th>\n",
       "      <th>album_name</th>\n",
       "      <th>popularity</th>\n",
       "    </tr>\n",
       "  </thead>\n",
       "  <tbody>\n",
       "    <tr>\n",
       "      <th>0</th>\n",
       "      <td>Rewrite The Stars</td>\n",
       "      <td>James Arthur</td>\n",
       "      <td>The Greatest Showman: Reimagined (Deluxe)</td>\n",
       "      <td>72</td>\n",
       "    </tr>\n",
       "    <tr>\n",
       "      <th>1</th>\n",
       "      <td>How Far I'll Go - From \"Moana\"</td>\n",
       "      <td>Alessia Cara</td>\n",
       "      <td>How Far I'll Go (From \"Moana\")</td>\n",
       "      <td>59</td>\n",
       "    </tr>\n",
       "    <tr>\n",
       "      <th>2</th>\n",
       "      <td>Heavy</td>\n",
       "      <td>Anne-Marie</td>\n",
       "      <td>Speak Your Mind (Deluxe)</td>\n",
       "      <td>44</td>\n",
       "    </tr>\n",
       "    <tr>\n",
       "      <th>3</th>\n",
       "      <td>Scars To Your Beautiful</td>\n",
       "      <td>Alessia Cara</td>\n",
       "      <td>Know-It-All (Deluxe)</td>\n",
       "      <td>70</td>\n",
       "    </tr>\n",
       "    <tr>\n",
       "      <th>4</th>\n",
       "      <td>like my father</td>\n",
       "      <td>Jax</td>\n",
       "      <td>like my father</td>\n",
       "      <td>61</td>\n",
       "    </tr>\n",
       "  </tbody>\n",
       "</table>\n",
       "</div>"
      ],
      "text/plain": [
       "                       track_name   artist_name  \\\n",
       "0               Rewrite The Stars  James Arthur   \n",
       "1  How Far I'll Go - From \"Moana\"  Alessia Cara   \n",
       "2                           Heavy    Anne-Marie   \n",
       "3         Scars To Your Beautiful  Alessia Cara   \n",
       "4                  like my father           Jax   \n",
       "\n",
       "                                  album_name  popularity  \n",
       "0  The Greatest Showman: Reimagined (Deluxe)          72  \n",
       "1             How Far I'll Go (From \"Moana\")          59  \n",
       "2                   Speak Your Mind (Deluxe)          44  \n",
       "3                       Know-It-All (Deluxe)          70  \n",
       "4                             like my father          61  "
      ]
     },
     "execution_count": 5,
     "metadata": {},
     "output_type": "execute_result"
    }
   ],
   "source": [
    "df = pd.read_csv('datasets/extracted_track_data.csv')\n",
    "df.head()"
   ]
  },
  {
   "cell_type": "markdown",
   "id": "691b9182",
   "metadata": {},
   "source": [
    "### 3) Data Preparing\n",
    "#### Checking DataType and Null Values in the Dataframe"
   ]
  },
  {
   "cell_type": "code",
   "execution_count": 6,
   "id": "1e6ba5a0",
   "metadata": {},
   "outputs": [
    {
     "name": "stdout",
     "output_type": "stream",
     "text": [
      "<class 'pandas.core.frame.DataFrame'>\n",
      "RangeIndex: 100 entries, 0 to 99\n",
      "Data columns (total 4 columns):\n",
      " #   Column       Non-Null Count  Dtype \n",
      "---  ------       --------------  ----- \n",
      " 0   track_name   100 non-null    object\n",
      " 1   artist_name  100 non-null    object\n",
      " 2   album_name   100 non-null    object\n",
      " 3   popularity   100 non-null    int64 \n",
      "dtypes: int64(1), object(3)\n",
      "memory usage: 3.2+ KB\n"
     ]
    },
    {
     "data": {
      "text/plain": [
       "track_name     0\n",
       "artist_name    0\n",
       "album_name     0\n",
       "popularity     0\n",
       "dtype: int64"
      ]
     },
     "execution_count": 6,
     "metadata": {},
     "output_type": "execute_result"
    }
   ],
   "source": [
    "df.info()\n",
    "df.isnull().sum()"
   ]
  },
  {
   "cell_type": "markdown",
   "id": "d26deb1b",
   "metadata": {},
   "source": [
    "#### Creating 'highly_popular' column from existing 'popularity' column"
   ]
  },
  {
   "cell_type": "code",
   "execution_count": 12,
   "id": "9136245b",
   "metadata": {},
   "outputs": [],
   "source": [
    "df['highly_popular'] = (df['popularity'] > 80)"
   ]
  },
  {
   "cell_type": "markdown",
   "id": "4bf36421",
   "metadata": {},
   "source": [
    "### 4) Analyzing the Dataframe\n",
    "#### Finding avarage value of 'popularity' column"
   ]
  },
  {
   "cell_type": "code",
   "execution_count": 13,
   "id": "e759746d",
   "metadata": {},
   "outputs": [
    {
     "name": "stdout",
     "output_type": "stream",
     "text": [
      "63.93\n"
     ]
    }
   ],
   "source": [
    "avg_popularity = df['popularity'].mean()\n",
    "print(avg_popularity)"
   ]
  },
  {
   "cell_type": "markdown",
   "id": "c480e394",
   "metadata": {},
   "source": [
    "#### Finding the most popular track in the playlist"
   ]
  },
  {
   "cell_type": "code",
   "execution_count": 9,
   "id": "f2d6048a",
   "metadata": {},
   "outputs": [
    {
     "name": "stdout",
     "output_type": "stream",
     "text": [
      "track_name        I Wanna Be Yours\n",
      "artist_name         Arctic Monkeys\n",
      "album_name                      AM\n",
      "popularity                      91\n",
      "highly_popular                True\n",
      "Name: 67, dtype: object\n"
     ]
    }
   ],
   "source": [
    "most_popular_track = df['popularity'].idxmax()\n",
    "print(df.iloc[most_popular_track])"
   ]
  },
  {
   "cell_type": "markdown",
   "id": "fd833d15",
   "metadata": {},
   "source": [
    "#### Top 10 most popular artists in the playlist"
   ]
  },
  {
   "cell_type": "code",
   "execution_count": 21,
   "id": "3e6d56e2",
   "metadata": {},
   "outputs": [
    {
     "data": {
      "image/png": "[encoded data removed]",
      "text/plain": [
       "<Figure size 640x480 with 1 Axes>"
      ]
     },
     "metadata": {},
     "output_type": "display_data"
    }
   ],
   "source": [
    "df['artist_name'].value_counts().head(10).plot(kind='barh');"
   ]
  },
  {
   "cell_type": "markdown",
   "id": "2be0c719",
   "metadata": {},
   "source": [
    "### 5) Extract cleaned data into CSV"
   ]
  },
  {
   "cell_type": "code",
   "execution_count": null,
   "id": "db41e0a9",
   "metadata": {},
   "outputs": [],
   "source": [
    "df.to_csv(\"datasets/cleaned_data.csv\", index=False)"
   ]
  },
  {
   "cell_type": "markdown",
   "id": "34840c82",
   "metadata": {},
   "source": [
    "### 6) Extraction into SQL database"
   ]
  },
  {
   "cell_type": "code",
   "execution_count": 28,
   "id": "843bad7f",
   "metadata": {},
   "outputs": [
    {
     "data": {
      "text/html": [
       "<div>\n",
       "<style scoped>\n",
       "    .dataframe tbody tr th:only-of-type {\n",
       "        vertical-align: middle;\n",
       "    }\n",
       "\n",
       "    .dataframe tbody tr th {\n",
       "        vertical-align: top;\n",
       "    }\n",
       "\n",
       "    .dataframe thead th {\n",
       "        text-align: right;\n",
       "    }\n",
       "</style>\n",
       "<table border=\"1\" class=\"dataframe\">\n",
       "  <thead>\n",
       "    <tr style=\"text-align: right;\">\n",
       "      <th></th>\n",
       "      <th>track_name</th>\n",
       "      <th>artist_name</th>\n",
       "      <th>album_name</th>\n",
       "      <th>popularity</th>\n",
       "      <th>highly_popular</th>\n",
       "    </tr>\n",
       "  </thead>\n",
       "  <tbody>\n",
       "    <tr>\n",
       "      <th>0</th>\n",
       "      <td>Rewrite The Stars</td>\n",
       "      <td>James Arthur</td>\n",
       "      <td>The Greatest Showman: Reimagined (Deluxe)</td>\n",
       "      <td>72</td>\n",
       "      <td>False</td>\n",
       "    </tr>\n",
       "    <tr>\n",
       "      <th>1</th>\n",
       "      <td>How Far I'll Go - From \"Moana\"</td>\n",
       "      <td>Alessia Cara</td>\n",
       "      <td>How Far I'll Go (From \"Moana\")</td>\n",
       "      <td>59</td>\n",
       "      <td>False</td>\n",
       "    </tr>\n",
       "    <tr>\n",
       "      <th>2</th>\n",
       "      <td>Heavy</td>\n",
       "      <td>Anne-Marie</td>\n",
       "      <td>Speak Your Mind (Deluxe)</td>\n",
       "      <td>44</td>\n",
       "      <td>False</td>\n",
       "    </tr>\n",
       "    <tr>\n",
       "      <th>3</th>\n",
       "      <td>Scars To Your Beautiful</td>\n",
       "      <td>Alessia Cara</td>\n",
       "      <td>Know-It-All (Deluxe)</td>\n",
       "      <td>70</td>\n",
       "      <td>False</td>\n",
       "    </tr>\n",
       "    <tr>\n",
       "      <th>4</th>\n",
       "      <td>like my father</td>\n",
       "      <td>Jax</td>\n",
       "      <td>like my father</td>\n",
       "      <td>61</td>\n",
       "      <td>False</td>\n",
       "    </tr>\n",
       "  </tbody>\n",
       "</table>\n",
       "</div>"
      ],
      "text/plain": [
       "                       track_name   artist_name  \\\n",
       "0               Rewrite The Stars  James Arthur   \n",
       "1  How Far I'll Go - From \"Moana\"  Alessia Cara   \n",
       "2                           Heavy    Anne-Marie   \n",
       "3         Scars To Your Beautiful  Alessia Cara   \n",
       "4                  like my father           Jax   \n",
       "\n",
       "                                  album_name  popularity  highly_popular  \n",
       "0  The Greatest Showman: Reimagined (Deluxe)          72           False  \n",
       "1             How Far I'll Go (From \"Moana\")          59           False  \n",
       "2                   Speak Your Mind (Deluxe)          44           False  \n",
       "3                       Know-It-All (Deluxe)          70           False  \n",
       "4                             like my father          61           False  "
      ]
     },
     "execution_count": 28,
     "metadata": {},
     "output_type": "execute_result"
    }
   ],
   "source": [
    "df.head()"
   ]
  },
  {
   "cell_type": "code",
   "execution_count": 29,
   "id": "9f5d0477",
   "metadata": {},
   "outputs": [
    {
     "name": "stdout",
     "output_type": "stream",
     "text": [
      "<class 'pandas.core.frame.DataFrame'>\n",
      "RangeIndex: 100 entries, 0 to 99\n",
      "Data columns (total 5 columns):\n",
      " #   Column          Non-Null Count  Dtype \n",
      "---  ------          --------------  ----- \n",
      " 0   track_name      100 non-null    object\n",
      " 1   artist_name     100 non-null    object\n",
      " 2   album_name      100 non-null    object\n",
      " 3   popularity      100 non-null    int64 \n",
      " 4   highly_popular  100 non-null    bool  \n",
      "dtypes: bool(1), int64(1), object(3)\n",
      "memory usage: 3.3+ KB\n"
     ]
    }
   ],
   "source": [
    "df.info()"
   ]
  },
  {
   "cell_type": "markdown",
   "id": "56fad719",
   "metadata": {},
   "source": [
    "#### Createing the database table"
   ]
  },
  {
   "cell_type": "code",
   "execution_count": 30,
   "id": "d4fccf92",
   "metadata": {},
   "outputs": [
    {
     "data": {
      "text/plain": [
       "<sqlite3.Cursor at 0x1548db340>"
      ]
     },
     "execution_count": 30,
     "metadata": {},
     "output_type": "execute_result"
    }
   ],
   "source": [
    "conn = sqlite3.connect('spotify_playlist_track.db')\n",
    "cursor = conn.cursor()\n",
    "cursor.execute('''\n",
    "    CREATE TABLE IF NOT EXISTS spotify_playlist (\n",
    "            id INTEGER PRIMARY KEY AUTOINCREMENT,\n",
    "            track_name TEXT,\n",
    "            album_name TEXT,\n",
    "            populartiy INTEGER,\n",
    "            highly_popular BOOLEAN\n",
    "        )\n",
    "''')"
   ]
  },
  {
   "cell_type": "markdown",
   "id": "bc47be70",
   "metadata": {},
   "source": [
    "#### Adding data from Dataframe into Database table"
   ]
  },
  {
   "cell_type": "code",
   "execution_count": null,
   "id": "6707d319",
   "metadata": {},
   "outputs": [
    {
     "data": {
      "text/plain": [
       "100"
      ]
     },
     "execution_count": 33,
     "metadata": {},
     "output_type": "execute_result"
    }
   ],
   "source": [
    "df.to_sql('spotify_playlist', conn, if_exists='replace', index=False)"
   ]
  },
  {
   "cell_type": "markdown",
   "id": "778b156b",
   "metadata": {},
   "source": [
    "#### Reading data from the Database"
   ]
  },
  {
   "cell_type": "code",
   "execution_count": 34,
   "id": "13a39fd7",
   "metadata": {},
   "outputs": [
    {
     "data": {
      "text/html": [
       "<div>\n",
       "<style scoped>\n",
       "    .dataframe tbody tr th:only-of-type {\n",
       "        vertical-align: middle;\n",
       "    }\n",
       "\n",
       "    .dataframe tbody tr th {\n",
       "        vertical-align: top;\n",
       "    }\n",
       "\n",
       "    .dataframe thead th {\n",
       "        text-align: right;\n",
       "    }\n",
       "</style>\n",
       "<table border=\"1\" class=\"dataframe\">\n",
       "  <thead>\n",
       "    <tr style=\"text-align: right;\">\n",
       "      <th></th>\n",
       "      <th>track_name</th>\n",
       "      <th>artist_name</th>\n",
       "      <th>album_name</th>\n",
       "      <th>popularity</th>\n",
       "      <th>highly_popular</th>\n",
       "    </tr>\n",
       "  </thead>\n",
       "  <tbody>\n",
       "    <tr>\n",
       "      <th>0</th>\n",
       "      <td>Rewrite The Stars</td>\n",
       "      <td>James Arthur</td>\n",
       "      <td>The Greatest Showman: Reimagined (Deluxe)</td>\n",
       "      <td>72</td>\n",
       "      <td>0</td>\n",
       "    </tr>\n",
       "    <tr>\n",
       "      <th>1</th>\n",
       "      <td>How Far I'll Go - From \"Moana\"</td>\n",
       "      <td>Alessia Cara</td>\n",
       "      <td>How Far I'll Go (From \"Moana\")</td>\n",
       "      <td>59</td>\n",
       "      <td>0</td>\n",
       "    </tr>\n",
       "    <tr>\n",
       "      <th>2</th>\n",
       "      <td>Heavy</td>\n",
       "      <td>Anne-Marie</td>\n",
       "      <td>Speak Your Mind (Deluxe)</td>\n",
       "      <td>44</td>\n",
       "      <td>0</td>\n",
       "    </tr>\n",
       "    <tr>\n",
       "      <th>3</th>\n",
       "      <td>Scars To Your Beautiful</td>\n",
       "      <td>Alessia Cara</td>\n",
       "      <td>Know-It-All (Deluxe)</td>\n",
       "      <td>70</td>\n",
       "      <td>0</td>\n",
       "    </tr>\n",
       "    <tr>\n",
       "      <th>4</th>\n",
       "      <td>like my father</td>\n",
       "      <td>Jax</td>\n",
       "      <td>like my father</td>\n",
       "      <td>61</td>\n",
       "      <td>0</td>\n",
       "    </tr>\n",
       "  </tbody>\n",
       "</table>\n",
       "</div>"
      ],
      "text/plain": [
       "                       track_name   artist_name  \\\n",
       "0               Rewrite The Stars  James Arthur   \n",
       "1  How Far I'll Go - From \"Moana\"  Alessia Cara   \n",
       "2                           Heavy    Anne-Marie   \n",
       "3         Scars To Your Beautiful  Alessia Cara   \n",
       "4                  like my father           Jax   \n",
       "\n",
       "                                  album_name  popularity  highly_popular  \n",
       "0  The Greatest Showman: Reimagined (Deluxe)          72               0  \n",
       "1             How Far I'll Go (From \"Moana\")          59               0  \n",
       "2                   Speak Your Mind (Deluxe)          44               0  \n",
       "3                       Know-It-All (Deluxe)          70               0  \n",
       "4                             like my father          61               0  "
      ]
     },
     "execution_count": 34,
     "metadata": {},
     "output_type": "execute_result"
    }
   ],
   "source": [
    "pd.read_sql('SELECT * FROM spotify_playlist', conn).head()"
   ]
  }
 ],
 "metadata": {
  "kernelspec": {
   "display_name": "dev_env",
   "language": "python",
   "name": "python3"
  },
  "language_info": {
   "codemirror_mode": {
    "name": "ipython",
    "version": 3
   },
   "file_extension": ".py",
   "mimetype": "text/x-python",
   "name": "python",
   "nbconvert_exporter": "python",
   "pygments_lexer": "ipython3",
   "version": "3.10.16"
  }
 },
 "nbformat": 4,
 "nbformat_minor": 5
}
